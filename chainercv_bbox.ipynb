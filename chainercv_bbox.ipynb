{
  "nbformat": 4,
  "nbformat_minor": 0,
  "metadata": {
    "colab": {
      "name": "chainercv-bbox.ipynb",
      "version": "0.3.2",
      "views": {},
      "default_view": {},
      "provenance": [],
      "collapsed_sections": []
    },
    "kernelspec": {
      "name": "python3",
      "display_name": "Python 3"
    },
    "accelerator": "GPU"
  },
  "cells": [
    {
      "metadata": {
        "id": "lrJ0F_T5Ddgq",
        "colab_type": "text"
      },
      "cell_type": "markdown",
      "source": [
        "# Chainerを使う準備をします\n",
        "https://github.com/kmaehashi/chainer-colab"
      ]
    },
    {
      "metadata": {
        "id": "QSWcNUpmtnPU",
        "colab_type": "code",
        "colab": {
          "autoexec": {
            "startup": false,
            "wait_interval": 0
          }
        }
      },
      "cell_type": "code",
      "source": [
        "!apt -y install libcusparse8.0 libnvrtc8.0 libnvtoolsext1\n",
        "!ln -snf /usr/lib/x86_64-linux-gnu/libnvrtc-builtins.so.8.0 /usr/lib/x86_64-linux-gnu/libnvrtc-builtins.so\n",
        "!pip install 'cupy-cuda80==4.0.0rc1' 'chainer==4.0.0rc1'\n",
        "!pip install -U numpy\n",
        "!pip install chainercv==0.8.0\n",
        "#!git clone https://github.com/chainer/chainercv.git"
      ],
      "execution_count": 0,
      "outputs": []
    },
    {
      "metadata": {
        "id": "dHtPR5SqGNZA",
        "colab_type": "text"
      },
      "cell_type": "markdown",
      "source": [
        "# Install a Drive FUSE wrapper.\n",
        "https://github.com/astrada/google-drive-ocamlfuse"
      ]
    },
    {
      "metadata": {
        "id": "So69xMjaHs-M",
        "colab_type": "code",
        "colab": {
          "autoexec": {
            "startup": false,
            "wait_interval": 0
          }
        }
      },
      "cell_type": "code",
      "source": [
        "!apt-get install -y -qq software-properties-common python-software-properties module-init-tools\n",
        "!add-apt-repository -y ppa:alessandro-strada/ppa 2>&1 > /dev/null\n",
        "!apt-get update -qq 2>&1 > /dev/null\n",
        "!apt-get -y install -qq google-drive-ocamlfuse fuse"
      ],
      "execution_count": 0,
      "outputs": []
    },
    {
      "metadata": {
        "id": "clmcHC3XGbMA",
        "colab_type": "text"
      },
      "cell_type": "markdown",
      "source": [
        "# Generate auth tokens for Colab\n",
        "1. 表示されたURLリンクへ飛んで表示されたトークンをコピー\n",
        "1. 表示されたテキスト入力欄へペースト\n",
        "1. Enter"
      ]
    },
    {
      "metadata": {
        "id": "8qk3pKSHWFHo",
        "colab_type": "code",
        "colab": {
          "autoexec": {
            "startup": false,
            "wait_interval": 0
          }
        }
      },
      "cell_type": "code",
      "source": [
        "from google.colab import auth\n",
        "auth.authenticate_user()"
      ],
      "execution_count": 0,
      "outputs": []
    },
    {
      "metadata": {
        "id": "Xvd3-frwGowM",
        "colab_type": "text"
      },
      "cell_type": "markdown",
      "source": [
        "# Generate creds for the Drive FUSE library.\n",
        "もう一度\n",
        "1. 表示されたURLリンクへ飛んで表示されたトークンをコピー\n",
        "1. 表示されたテキスト入力欄へペースト\n",
        "1. Enter"
      ]
    },
    {
      "metadata": {
        "id": "O9iQ7lKeIHpu",
        "colab_type": "code",
        "colab": {
          "autoexec": {
            "startup": false,
            "wait_interval": 0
          }
        }
      },
      "cell_type": "code",
      "source": [
        "from oauth2client.client import GoogleCredentials\n",
        "creds = GoogleCredentials.get_application_default()\n",
        "import getpass\n",
        "!google-drive-ocamlfuse -headless -id={creds.client_id} -secret={creds.client_secret} < /dev/null 2>&1 | grep URL\n",
        "vcode = getpass.getpass()\n",
        "!echo {vcode} | google-drive-ocamlfuse -headless -id={creds.client_id} -secret={creds.client_secret}"
      ],
      "execution_count": 0,
      "outputs": []
    },
    {
      "metadata": {
        "id": "W4fmEDhJHM92",
        "colab_type": "text"
      },
      "cell_type": "markdown",
      "source": [
        "# Create a directory and mount Google Drive using that directory."
      ]
    },
    {
      "metadata": {
        "id": "RAIdsIXzIwq2",
        "colab_type": "code",
        "colab": {
          "autoexec": {
            "startup": false,
            "wait_interval": 0
          }
        }
      },
      "cell_type": "code",
      "source": [
        "!mkdir -p drive\n",
        "!google-drive-ocamlfuse drive\n",
        "\n",
        "print('Files in Drive:')\n",
        "!ls drive/\n",
        "\n",
        "# Create a file in Drive.\n",
        "# !echo \"This newly created file will appear in your Drive file list.\" > drive/created.txt\n",
        "\n",
        "import os\n",
        "os.chdir('drive')"
      ],
      "execution_count": 0,
      "outputs": []
    },
    {
      "metadata": {
        "id": "-TKg72n7ILy4",
        "colab_type": "text"
      },
      "cell_type": "markdown",
      "source": [
        "# ChainerCVで丸バツ三角を学習させたモデルのデモをみる\n",
        "最後の`demo('all.png')`は適当にGoogle driveに保存した画像パスをくわせて下さい"
      ]
    },
    {
      "metadata": {
        "id": "vtvBgAG1HeTs",
        "colab_type": "code",
        "colab": {
          "autoexec": {
            "startup": false,
            "wait_interval": 0
          }
        }
      },
      "cell_type": "code",
      "source": [
        "!git clone https://github.com/kfjt/chainer-bbox.git"
      ],
      "execution_count": 0,
      "outputs": []
    },
    {
      "metadata": {
        "id": "KsQDvgah4Sla",
        "colab_type": "code",
        "colab": {
          "autoexec": {
            "startup": false,
            "wait_interval": 0
          }
        }
      },
      "cell_type": "code",
      "source": [
        "os.chdir('chainer-bbox')\n",
        "#!python train.py --gpu 0\n",
        "!python demo.py all.png"
      ],
      "execution_count": 0,
      "outputs": []
    },
    {
      "metadata": {
        "id": "97I_fTYrX2o0",
        "colab_type": "code",
        "colab": {
          "autoexec": {
            "startup": false,
            "wait_interval": 0
          }
        }
      },
      "cell_type": "code",
      "source": [
        "import matplotlib.pyplot as plot\n",
        "import chainer\n",
        "\n",
        "from chainercv.links import SSD300\n",
        "from chainercv.datasets import voc_bbox_label_names\n",
        "from chainercv import utils\n",
        "from chainercv.visualizations import vis_bbox\n",
        "\n",
        "from via_utils import via_bbox_label_names\n",
        "\n",
        "def demo(img):\n",
        " model = SSD300(n_fg_class=len(voc_bbox_label_names),pretrained_model='via_model')\n",
        " chainer.cuda.get_device_from_id(0).use()\n",
        " model.to_gpu()\n",
        "\n",
        " img = utils.read_image(img, color=True)\n",
        " bboxes, labels, scores = model.predict([img])\n",
        " bbox, label, score = bboxes[0], labels[0], scores[0]\n",
        " vis_bbox(img, bbox, label, score, label_names=via_bbox_label_names)\n",
        " plot.show()\n",
        "\n",
        "demo('all.png')"
      ],
      "execution_count": 0,
      "outputs": []
    }
  ]
}